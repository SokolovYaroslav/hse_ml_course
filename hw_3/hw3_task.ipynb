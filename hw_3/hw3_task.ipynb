{
 "nbformat": 4,
 "nbformat_minor": 0,
 "metadata": {
  "kernelspec": {
   "display_name": "Python 3",
   "language": "python",
   "name": "python3"
  },
  "language_info": {
   "codemirror_mode": {
    "name": "ipython",
    "version": 3
   },
   "file_extension": ".py",
   "mimetype": "text/x-python",
   "name": "python",
   "nbconvert_exporter": "python",
   "pygments_lexer": "ipython3",
   "version": "3.7.3"
  },
  "colab": {
   "name": "hw3_task.ipynb",
   "provenance": [],
   "collapsed_sections": []
  }
 },
 "cells": [
  {
   "cell_type": "markdown",
   "metadata": {
    "id": "afIgLBWb689l"
   },
   "source": [
    "# Линейная регрессия\n",
    "__Суммарное количество баллов: 10__\n",
    "\n",
    "__Решение отправлять на `ml.course.practice@gmail.com`__\n",
    "\n",
    "__Тема письма: `[ML][MS][HW03] <ФИ>`, где вместо `<ФИ>` указаны фамилия и имя__\n",
    "\n",
    "##### Соколов Ярослав"
   ]
  },
  {
   "cell_type": "code",
   "metadata": {
    "id": "bYKrc1lO689l"
   },
   "source": [
    "from sklearn.datasets import make_blobs, make_moons\n",
    "from sklearn.model_selection import train_test_split\n",
    "from sklearn.preprocessing import StandardScaler\n",
    "from typing import Optional\n",
    "import numpy as np\n",
    "import random\n",
    "import matplotlib.pyplot as plt\n",
    "import matplotlib\n",
    "import copy"
   ],
   "execution_count": 1,
   "outputs": []
  },
  {
   "cell_type": "code",
   "metadata": {
    "id": "VOGx85I5689m"
   },
   "source": [
    "def read_data(path=\"boston.csv\"):\n",
    "    dataframe = np.genfromtxt(path, delimiter=\",\", skip_header=15)\n",
    "    np.random.seed(42)\n",
    "    np.random.shuffle(dataframe)\n",
    "    X = dataframe[:, :-1]\n",
    "    y = dataframe[:, -1]\n",
    "    return X, y"
   ],
   "execution_count": 2,
   "outputs": []
  },
  {
   "cell_type": "code",
   "metadata": {
    "id": "tte75xx7689m"
   },
   "source": [
    "def generate_synthetic(size:int, dim=6, noise=0.1):\n",
    "    X = np.random.randn(size, dim)\n",
    "    w = np.random.randn(dim + 1)\n",
    "    noise = noise * np.random.randn(size)\n",
    "    y = X.dot(w[1:]) + w[0] + noise\n",
    "    return X, y"
   ],
   "execution_count": 3,
   "outputs": []
  },
  {
   "cell_type": "markdown",
   "metadata": {
    "id": "Aab8Oyui689m"
   },
   "source": [
    "### Задание 1 (1 балл)\n",
    "Для начала нужно понять, какую метрику для ошибки будем использовать. В нашем случае нам подойдет стандартная метрика MSE. Также чтобы оценить качество модели нам понадобится метрика $R^2$. Реализуйте обе эти метрики."
   ]
  },
  {
   "cell_type": "code",
   "metadata": {
    "id": "RDUbABpp689m"
   },
   "source": [
    "def mse(y_true: np.ndarray, y_pred: np.ndarray):\n",
    "    return np.mean(np.square(y_true - y_pred))\n",
    "\n",
    "def r2(y_true: np.ndarray, y_pred: np.ndarray):\n",
    "    y_mean = np.mean(y_true)\n",
    "    v = np.sum(np.square(y_mean - y_true))\n",
    "    u = np.sum(np.square(y_true - y_pred))\n",
    "    return 1 - u / v"
   ],
   "execution_count": 4,
   "outputs": []
  },
  {
   "cell_type": "markdown",
   "metadata": {
    "id": "Qqlg3KeW689m"
   },
   "source": [
    "### Задание 2 (3 балла)\n",
    "Теперь реализуем линейную регрессию при помощи явного решения задачи минимизации. \n",
    "\n",
    "#### Методы\n",
    "`fit(X, y)` - решает задачу минимизации $\\arg\\min_{w, b}\\sum ((w\\cdot x + b) - y)^2$. \n",
    "\n",
    "`predict(X)` - строит предсказание `y` для объектов из `X`."
   ]
  },
  {
   "cell_type": "code",
   "metadata": {
    "id": "zTGLaghB689m"
   },
   "source": [
    "class NormalLR:\n",
    "    def __init__(self):\n",
    "        self._w = None\n",
    "        self._x_scaler = None\n",
    "        self._y_scaler = None\n",
    "\n",
    "    def fit(self, X: np.ndarray, y: np.ndarray):\n",
    "        self._fit_scaler(X, y)\n",
    "        X, y = self._transform(X, y)\n",
    "        self._w = np.linalg.pinv(X) @ y\n",
    "    \n",
    "    def predict(self, X: np.ndarray) -> np.ndarray:\n",
    "        X, _ = self._transform(X=X, y=None)\n",
    "        y = X @ self._w\n",
    "        _, y = self._inverse_transform(X=None, y=y)\n",
    "        return y\n",
    "\n",
    "    def _fit_scaler(self, X: np.ndarray, y: np.ndarray):\n",
    "        self._x_scaler = StandardScaler().fit(X)\n",
    "        self._y_scaler = StandardScaler().fit(y.reshape(-1, 1))\n",
    "\n",
    "    def _transform(self, X: Optional[np.ndarray], y: Optional[np.ndarray]) -> tuple:\n",
    "        x_ret = NormalLR._add_bias(self._x_scaler.transform(X)) if X is not None else None\n",
    "        y_ret = self._y_scaler.transform(y.reshape(-1, 1)).reshape(-1) \\\n",
    "            if y is not None else None\n",
    "        return x_ret, y_ret\n",
    "\n",
    "    def _inverse_transform(self, X: Optional[np.ndarray], y: Optional[np.ndarray]) -> tuple:\n",
    "        x_ret = self._x_scaler.inverse_transform(X) if X is not None else None\n",
    "        y_ret = self._y_scaler.inverse_transform(y.reshape(-1, 1)).reshape(-1) \\\n",
    "            if y is not None else None\n",
    "        return x_ret, y_ret\n",
    "\n",
    "    @staticmethod\n",
    "    def _add_bias(X: np.ndarray) -> np.ndarray:\n",
    "        return np.hstack((X, np.ones((X.shape[0], 1), dtype=X.dtype)))"
   ],
   "execution_count": 5,
   "outputs": []
  },
  {
   "cell_type": "code",
   "metadata": {
    "id": "hgS8c_sM689m"
   },
   "source": [
    "X, y = generate_synthetic(1024)\n",
    "X_train, X_test, y_train, y_test = train_test_split(X, y, train_size=0.8)"
   ],
   "execution_count": 6,
   "outputs": []
  },
  {
   "cell_type": "code",
   "metadata": {
    "id": "9DjhMRug689m"
   },
   "source": [
    "regr = NormalLR()\n",
    "regr.fit(X_train, y_train)\n",
    "y_pred = regr.predict(X_test)\n",
    "print(f\"MSE: {mse(y_test, y_pred)}, R2: {r2(y_test, y_pred)}\")"
   ],
   "execution_count": 7,
   "outputs": [
    {
     "name": "stdout",
     "output_type": "stream",
     "text": [
      "MSE: 0.009185933298555021, R2: 0.9987384962681313\n"
     ]
    }
   ]
  },
  {
   "cell_type": "markdown",
   "metadata": {
    "id": "rPaByJZN689m"
   },
   "source": [
    "### Задание 3 (2 балла)\n",
    "Теперь реализуем линейную регрессию с использованием градиентного спуска с larning rate `alpha` в течении `iterations` итераций. В задании необходимо использовать регуляризацию Лассо с коэффициентом `l`.\n",
    "\n",
    "#### Методы\n",
    "`fit(X, y)` - приближает решение задачи минимизации $\\arg\\min_{w, b}\\sum ((w\\cdot x + b) - y)^2$ при помощи градиентного спуска. \n",
    "\n",
    "\n",
    "`predict(X)` - строит предсказание `y` для объектов из `X`."
   ]
  },
  {
   "cell_type": "code",
   "metadata": {
    "id": "oBmZJrhL689m"
   },
   "source": [
    "class GradientLR:\n",
    "    def __init__(self, alpha:float, iterations=10000, l=0.):\n",
    "        self._lr = alpha\n",
    "        self._iterations = iterations\n",
    "        self._reg = l\n",
    "\n",
    "        self._w = None\n",
    "\n",
    "        self._x_scaler = None\n",
    "        self._y_scaler = None\n",
    "\n",
    "    def fit(self, X: np.ndarray, y: np.ndarray):\n",
    "        self._fit_scaler(X, y)\n",
    "        X, y = self._transform(X, y)\n",
    "\n",
    "        self._w = np.zeros(X.shape[1], dtype=np.float32)\n",
    "\n",
    "        for _ in range(self._iterations):\n",
    "            self._w -= self._lr * self._grad(X, y, self._w, self._reg)\n",
    "\n",
    "    def predict(self, X: np.ndarray) -> np.ndarray:\n",
    "        X, _ = self._transform(X=X, y=None)\n",
    "        y = X @ self._w\n",
    "        _, y = self._inverse_transform(X=None, y=y)\n",
    "        return y\n",
    "\n",
    "    def _fit_scaler(self, X: np.ndarray, y: np.ndarray):\n",
    "        self._x_scaler = StandardScaler().fit(X)\n",
    "        self._y_scaler = StandardScaler().fit(y.reshape(-1, 1))\n",
    "\n",
    "    def _transform(self, X: Optional[np.ndarray], y: Optional[np.ndarray]) -> tuple:\n",
    "        x_ret = NormalLR._add_bias(self._x_scaler.transform(X)) if X is not None else None\n",
    "        y_ret = self._y_scaler.transform(y.reshape(-1, 1)).reshape(-1) \\\n",
    "            if y is not None else None\n",
    "        return x_ret, y_ret\n",
    "\n",
    "    def _inverse_transform(self, X: Optional[np.ndarray], y: Optional[np.ndarray]) -> tuple:\n",
    "        x_ret = self._x_scaler.inverse_transform(X) if X is not None else None\n",
    "        y_ret = self._y_scaler.inverse_transform(y.reshape(-1, 1)).reshape(-1) \\\n",
    "            if y is not None else None\n",
    "        return x_ret, y_ret\n",
    "\n",
    "    @staticmethod\n",
    "    def _add_bias(X: np.ndarray) -> np.ndarray:\n",
    "        return np.hstack((X, np.ones((X.shape[0], 1), dtype=X.dtype)))\n",
    "\n",
    "    @staticmethod\n",
    "    def _grad(x: np.ndarray, y: np.ndarray, w: np.ndarray, alpha: float) -> np.ndarray:\n",
    "        main_term = x.T @ (x @ w - y) / x.shape[0]\n",
    "        reg_term = alpha * np.sign(w)\n",
    "        return main_term + reg_term"
   ],
   "execution_count": 8,
   "outputs": []
  },
  {
   "cell_type": "code",
   "metadata": {
    "id": "OPG6AR_b689m"
   },
   "source": [
    "def build_plot(X_train, y_train, X_test, y_test, high: float = 0.02):\n",
    "    xs = np.linspace(0, high, 100)\n",
    "    errors = []\n",
    "    for x in xs:\n",
    "        regr = GradientLR(0.1, iterations=10000, l=x)\n",
    "        regr.fit(X_train, y_train)\n",
    "        errors.append(mse(y_test, regr.predict(X_test)))\n",
    "    plt.figure(figsize=(9, 4))\n",
    "    plt.xlim(xs[0], xs[-1])\n",
    "    plt.grid()\n",
    "    plt.plot(xs, errors)\n",
    "    plt.show()"
   ],
   "execution_count": 9,
   "outputs": []
  },
  {
   "cell_type": "code",
   "metadata": {
    "id": "6D5_9sSc689m"
   },
   "source": [
    "X, y = generate_synthetic(1024)\n",
    "X, X_val, y, y_val = train_test_split(X, y, train_size=0.9, shuffle=True)\n",
    "X_train, X_test, y_train, y_test = train_test_split(X, y, train_size=0.8, shuffle=True)"
   ],
   "execution_count": 10,
   "outputs": []
  },
  {
   "cell_type": "code",
   "metadata": {
    "id": "OzRIkE7P689m"
   },
   "source": [
    "build_plot(X_train, y_train, X_val, y_val)"
   ],
   "execution_count": 11,
   "outputs": [
    {
     "data": {
      "text/plain": "<Figure size 648x288 with 1 Axes>",
      "image/png": "[encoded data removed]"
     },
     "metadata": {
      "needs_background": "light"
     },
     "output_type": "display_data"
    }
   ]
  },
  {
   "cell_type": "code",
   "metadata": {
    "id": "e3EYauPK689m"
   },
   "source": [
    "regr = GradientLR(0.1, iterations=10000, l=0.0014)\n",
    "regr.fit(X_train, y_train)\n",
    "y_pred = regr.predict(X_test)\n",
    "print(f\"MSE: {mse(y_test, y_pred)}, R2: {r2(y_test, y_pred)}\")"
   ],
   "execution_count": 12,
   "outputs": [
    {
     "name": "stdout",
     "output_type": "stream",
     "text": [
      "MSE: 0.01051813489206365, R2: 0.997309211353074\n"
     ]
    }
   ]
  },
  {
   "cell_type": "markdown",
   "metadata": {
    "id": "S_WtOSFG689m"
   },
   "source": [
    "### Задание 4 (2 балла)\n",
    "Протесируйте оба метода на данных `boston.csv`, для градиентного спуска постройте график зависимости ошибки от коэффициента регуляризации. "
   ]
  },
  {
   "cell_type": "code",
   "metadata": {
    "id": "_einEvle689m"
   },
   "source": [
    "X, y = read_data()\n",
    "X_train_val, X_test, y_train_val, y_test = train_test_split(X, y, train_size=0.8, shuffle=False)\n",
    "X_train, X_val, y_train, y_val = train_test_split(X_train_val, y_train_val, train_size=0.85, shuffle=False)"
   ],
   "execution_count": 13,
   "outputs": []
  },
  {
   "cell_type": "code",
   "metadata": {
    "id": "jBswiVjC689m"
   },
   "source": [
    "normal_regr = NormalLR()\n",
    "normal_regr.fit(X_train_val, y_train_val)\n",
    "y_pred = normal_regr.predict(X_test)\n",
    "print(f\"MSE: {mse(y_test, y_pred)}, R2: {r2(y_test, y_pred)}\")"
   ],
   "execution_count": 14,
   "outputs": [
    {
     "name": "stdout",
     "output_type": "stream",
     "text": [
      "MSE: 22266311.080836896, R2: 0.6872797475661052\n"
     ]
    }
   ]
  },
  {
   "cell_type": "code",
   "metadata": {
    "id": "dLUWno_N689m"
   },
   "source": [
    "build_plot(X_train, y_train, X_val, y_val)"
   ],
   "execution_count": 15,
   "outputs": [
    {
     "data": {
      "text/plain": "<Figure size 648x288 with 1 Axes>",
      "image/png": "[encoded data removed]"
     },
     "metadata": {
      "needs_background": "light"
     },
     "output_type": "display_data"
    }
   ]
  },
  {
   "cell_type": "code",
   "metadata": {
    "id": "pqHBX4Gn689m"
   },
   "source": [
    "regr_l1 = GradientLR(0.1, iterations=10000, l=0.0125)\n",
    "regr_l1.fit(X_train_val, y_train_val)\n",
    "y_pred = regr_l1.predict(X_test)\n",
    "print(f\"MSE: {mse(y_test, y_pred)}, R2: {r2(y_test, y_pred)}\")"
   ],
   "execution_count": 16,
   "outputs": [
    {
     "name": "stdout",
     "output_type": "stream",
     "text": [
      "MSE: 21776822.700292584, R2: 0.6941543901313487\n"
     ]
    }
   ]
  },
  {
   "cell_type": "markdown",
   "metadata": {
    "id": "hYrkoSNw689m"
   },
   "source": [
    "### Задание 5 (2 балла)\n",
    "Проинтерпритируйте полученные результаты. Опишите влияние каждого признака на результат предсказания."
   ]
  },
  {
   "cell_type": "markdown",
   "metadata": {
    "id": "J_1RhVl8689m",
    "pycharm": {
     "name": "#%% md\n"
    }
   },
   "source": [
    "#### Влияние регуляризации на качество\n",
    "Добавление регуляризации положительно сказалось на качестве на тестовой выборке.\n",
    "Давайте попробуем посмотреть, может быть какие-то признаки были занулены полностью:"
   ]
  },
  {
   "cell_type": "code",
   "execution_count": 17,
   "outputs": [
    {
     "name": "stdout",
     "output_type": "stream",
     "text": [
      "[-0.06577434  0.08379927 -0.03043802  0.05937411 -0.15227534  0.30039898\n",
      "  0.00055898 -0.27504146  0.12418757 -0.10583517 -0.19231798  0.07443939\n",
      " -0.41706762 -0.00065789]\n"
     ]
    }
   ],
   "source": [
    "print(regr_l1._w)"
   ],
   "metadata": {
    "collapsed": false,
    "pycharm": {
     "name": "#%%\n"
    }
   }
  },
  {
   "cell_type": "markdown",
   "source": [
    "Хм, нулевых весов совсем нет, что немного странно на первый взгляд.\n",
    "\n",
    "На второй взгляд мне кажется, что это недостаток метода градиентного спуска, поскольку\n",
    "на каждом шаге мы не \"оцениваем, выгодно ли нам добавлять признак\", как в методе углов,\n",
    "а просто уменьшаем градиент конкретного веса. Это в итоге приводит к тому, что конкретные веса\n",
    "не зануляются, а получают на каждом шаге довольно маленький градиент."
   ],
   "metadata": {
    "collapsed": false,
    "pycharm": {
     "name": "#%% md\n"
    }
   }
  },
  {
   "cell_type": "markdown",
   "source": [
    "#### Влияние признаков\n",
    "Для начала извлечём сами признаки:"
   ],
   "metadata": {
    "collapsed": false,
    "pycharm": {
     "name": "#%% md\n"
    }
   }
  },
  {
   "cell_type": "code",
   "execution_count": 18,
   "outputs": [
    {
     "data": {
      "text/plain": "array(['crim', 'zn', 'indus', 'chas', 'nox', 'rm', 'age', 'dis', 'rad',\n       'tax', 'ptratio', 'b', 'lstat', 'medv'], dtype='<U20')"
     },
     "execution_count": 18,
     "metadata": {},
     "output_type": "execute_result"
    }
   ],
   "source": [
    "features = np.genfromtxt(\"boston.csv\", delimiter=\",\", dtype=str)[0]\n",
    "features"
   ],
   "metadata": {
    "collapsed": false,
    "pycharm": {
     "name": "#%%\n"
    }
   }
  },
  {
   "cell_type": "markdown",
   "source": [
    "Давайте посмотрим, какие признаки оказались совсем бесполезными. То есть какие из них\n",
    "имеют вес меньше определённого трешхолда:\n",
    "\n"
   ],
   "metadata": {
    "collapsed": false,
    "pycharm": {
     "name": "#%% md\n"
    }
   }
  },
  {
   "cell_type": "code",
   "execution_count": 19,
   "outputs": [
    {
     "data": {
      "text/plain": "array(['age', 'medv'], dtype='<U20')"
     },
     "execution_count": 19,
     "metadata": {},
     "output_type": "execute_result"
    }
   ],
   "source": [
    "features[np.abs(regr_l1._w) < 1e-3]"
   ],
   "metadata": {
    "collapsed": false,
    "pycharm": {
     "name": "#%%\n"
    }
   }
  },
  {
   "cell_type": "markdown",
   "source": [
    "Далее давайте посмотрим на порядок признаков по их абсолютным весам:\n"
   ],
   "metadata": {
    "collapsed": false,
    "pycharm": {
     "name": "#%% md\n"
    }
   }
  },
  {
   "cell_type": "code",
   "execution_count": 20,
   "outputs": [
    {
     "data": {
      "text/plain": "array([['lstat', '-0.41706762'],\n       ['rm', '0.30039898'],\n       ['dis', '-0.27504146'],\n       ['ptratio', '-0.19231798'],\n       ['nox', '-0.15227534'],\n       ['rad', '0.12418757'],\n       ['tax', '-0.10583517'],\n       ['zn', '0.08379927'],\n       ['b', '0.07443939'],\n       ['crim', '-0.065774344'],\n       ['chas', '0.059374113'],\n       ['indus', '-0.030438015'],\n       ['medv', '-0.00065789477'],\n       ['age', '0.0005589799']], dtype='<U32')"
     },
     "execution_count": 20,
     "metadata": {},
     "output_type": "execute_result"
    }
   ],
   "source": [
    "sort_mask = np.argsort(np.abs(regr_l1._w))[::-1]\n",
    "sorted_features = features[sort_mask]\n",
    "sorted_ws = regr_l1._w[sort_mask]\n",
    "np.hstack((sorted_features.reshape(-1, 1), sorted_ws.reshape(-1, 1)))"
   ],
   "metadata": {
    "collapsed": false,
    "pycharm": {
     "name": "#%%\n"
    }
   }
  },
  {
   "cell_type": "markdown",
   "source": [
    "Думаю, что из этого массива частично видно влияние каждого признака на результат предсказания.\n",
    "\n",
    "Но давайте попробуем позанулять веса некоторых признаков.\n",
    "\n",
    "##### Запомним исходные значения метрик"
   ],
   "metadata": {
    "collapsed": false,
    "pycharm": {
     "name": "#%% md\n"
    }
   }
  },
  {
   "cell_type": "code",
   "execution_count": 21,
   "outputs": [
    {
     "name": "stdout",
     "output_type": "stream",
     "text": [
      "MSE: 21776822.700292584, R2: 0.6941543901313487\n"
     ]
    }
   ],
   "source": [
    "print(f\"MSE: {mse(y_test, y_pred)}, R2: {r2(y_test, y_pred)}\")"
   ],
   "metadata": {
    "collapsed": false,
    "pycharm": {
     "name": "#%%\n"
    }
   }
  },
  {
   "cell_type": "markdown",
   "source": [
    "##### Зануляем \"бесполезные\" medv и age"
   ],
   "metadata": {
    "collapsed": false,
    "pycharm": {
     "name": "#%% md\n"
    }
   }
  },
  {
   "cell_type": "code",
   "execution_count": 22,
   "outputs": [
    {
     "name": "stdout",
     "output_type": "stream",
     "text": [
      "MSE: 21781852.654469784, R2: 0.6940837467035121\n"
     ]
    }
   ],
   "source": [
    "regr_l1._w[sort_mask[-2:]] = 0\n",
    "y_pred = regr_l1.predict(X_test)\n",
    "print(f\"MSE: {mse(y_test, y_pred)}, R2: {r2(y_test, y_pred)}\")"
   ],
   "metadata": {
    "collapsed": false,
    "pycharm": {
     "name": "#%%\n"
    }
   }
  },
  {
   "cell_type": "markdown",
   "source": [
    "Качество лишь немного упало\n",
    "##### Зануляем indus"
   ],
   "metadata": {
    "collapsed": false,
    "pycharm": {
     "name": "#%% md\n"
    }
   }
  },
  {
   "cell_type": "code",
   "execution_count": 23,
   "outputs": [
    {
     "name": "stdout",
     "output_type": "stream",
     "text": [
      "MSE: 21408504.885846913, R2: 0.6993272469863164\n"
     ]
    }
   ],
   "source": [
    "regr_l1._w[sort_mask[-3:]] = 0\n",
    "y_pred = regr_l1.predict(X_test)\n",
    "print(f\"MSE: {mse(y_test, y_pred)}, R2: {r2(y_test, y_pred)}\")\n"
   ],
   "metadata": {
    "collapsed": false,
    "pycharm": {
     "name": "#%%\n"
    }
   }
  },
  {
   "cell_type": "markdown",
   "source": [
    "Качество выросло! Значит этот признак явно был шумным.\n",
    "\n",
    "##### Занулим chas"
   ],
   "metadata": {
    "collapsed": false,
    "pycharm": {
     "name": "#%% md\n"
    }
   }
  },
  {
   "cell_type": "code",
   "execution_count": 24,
   "outputs": [
    {
     "name": "stdout",
     "output_type": "stream",
     "text": [
      "MSE: 22364422.532553677, R2: 0.6859018166714841\n"
     ]
    }
   ],
   "source": [
    "regr_l1._w[sort_mask[-4:]] = 0\n",
    "y_pred = regr_l1.predict(X_test)\n",
    "print(f\"MSE: {mse(y_test, y_pred)}, R2: {r2(y_test, y_pred)}\")\n"
   ],
   "metadata": {
    "collapsed": false,
    "pycharm": {
     "name": "#%%\n"
    }
   }
  },
  {
   "cell_type": "markdown",
   "source": [
    "Здесь потеря качества уже значительна.\n",
    "Видимо, этот и все остальные нетронутые признаки являются значительными для модели\n",
    "и играют важную роль в перфомансе."
   ],
   "metadata": {
    "collapsed": false,
    "pycharm": {
     "name": "#%% md\n"
    }
   }
  }
 ]
}